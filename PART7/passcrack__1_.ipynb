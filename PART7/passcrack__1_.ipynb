{
 "cells": [
  {
   "cell_type": "markdown",
   "metadata": {},
   "source": [
    "## importing Libraries\n"
   ]
  },
  {
   "cell_type": "code",
   "execution_count": 1,
   "metadata": {},
   "outputs": [],
   "source": [
    "\n",
    "from itertools import combinations_with_replacement #printing all the combinations with replacements in a given range and length\n",
    "letters = [ i for i in range(102,118)]  #producing list in range [102,118]\n",
    "allcombo= combinations_with_replacement(letters,23)\n",
    " "
   ]
  },
  {
   "cell_type": "code",
   "execution_count": 2,
   "metadata": {},
   "outputs": [],
   "source": [
    "import numpy as np"
   ]
  },
  {
   "cell_type": "code",
   "execution_count": 3,
   "metadata": {},
   "outputs": [
    {
     "name": "stdout",
     "output_type": "stream",
     "text": [
      "(102, 102, 102, 102, 102, 102, 102, 102, 102, 102, 102, 102, 102, 102, 102, 102, 102, 102, 102, 102, 102, 102, 102)\n"
     ]
    }
   ],
   "source": [
    "for i in allcombo:\n",
    "    print(i)\n",
    "    break"
   ]
  },
  {
   "cell_type": "markdown",
   "metadata": {},
   "source": [
    "## defining helper function"
   ]
  },
  {
   "cell_type": "code",
   "execution_count": 4,
   "metadata": {},
   "outputs": [],
   "source": [
    "def power2(x):\n",
    "    return pow(x,2,127)  #efficient way to do modulo\n",
    "def power3(x):\n",
    "    return pow(x,3,127)\n",
    "def power4(x):\n",
    "    return pow(x,4,127)\n",
    "def power5(x):\n",
    "    return pow(x,5,127)\n",
    "def power6(x):\n",
    "    return pow(x,6,127)\n",
    "def power7(x):\n",
    "    return pow(x,7,127)\n",
    "def power8(x):\n",
    "    return pow(x,8,127)\n",
    "def power9(x):\n",
    "    return pow(x,9,127)\n",
    "def power10(x):\n",
    "    return pow(x,10,127)\n",
    "def power11(x):\n",
    "    return pow(x,11,127)\n",
    "def power12(x):\n",
    "    return pow(x,12,127)\n",
    "def power13(x):\n",
    "    return pow(x,13,127)\n",
    "def power14(x):\n",
    "    return pow(x,14,127)\n",
    "def power15(x):\n",
    "    return pow(x,15,127)\n",
    "def power16(x):\n",
    "    return pow(x,16,127)\n",
    "def power17(x):\n",
    "    return pow(x,17,127)\n",
    "def power18(x):\n",
    "    return pow(x,18,127)\n",
    "def power19(x):\n",
    "    return pow(x,19,127)\n",
    "def power20(x):\n",
    "    return pow(x,20,127)\n",
    "def power21(x):\n",
    "    return pow(x,21,127)\n",
    "def power22(x):\n",
    "    return pow(x,22,127)\n",
    "def power23(x):\n",
    "    return pow(x,23,127)\n",
    "def power24(x):\n",
    "    return pow(x,24,127)\n",
    "def power25(x):\n",
    "    return pow(x,25,127)\n",
    "def power26(x):\n",
    "    return pow(x,26,127)\n",
    "def power27(x):\n",
    "    return pow(x,27,127)\n",
    "def power28(x):\n",
    "    return pow(x,28,127)\n",
    "def power29(x):\n",
    "    return pow(x,29,127)\n",
    "def power30(x):\n",
    "    return pow(x,30,127)\n",
    "def power31(x):\n",
    "    return pow(x,31,127)\n",
    "\n"
   ]
  },
  {
   "cell_type": "markdown",
   "metadata": {},
   "source": [
    "## equating 32 hash values into the symmetric polynomial equation"
   ]
  },
  {
   "cell_type": "markdown",
   "metadata": {},
   "source": [
    " i = 1 to 32 $$x_1^{i-1} + x_2^{i-1} + ... + x_m^{i-1} $$"
   ]
  },
  {
   "cell_type": "code",
   "execution_count": null,
   "metadata": {},
   "outputs": [],
   "source": [
    "condition = (sum(i)%127==100) and (sum(map(power2,i))%127==15) and (sum(map(power3,i))%127==94) and (sum(map(power4,i))%127==25) and (sum(map(power5,i))%127==9) and (sum(map(power6,i))%127==45) and (sum(map(power7,i))%127==105) and (sum(map(power8,i))%127==40)  and (sum(map(power9,i))%127==55) and (sum(map(power10,i))%127==104) and (sum(map(power11,i))%127==16) and (sum(map(power12,i))%127==108) and (sum(map(power13,i))%127==85) and (sum(map(power14,i))%127==94) and (sum(map(power15,i))%127==107) and (sum(map(power16,i))%127==41) and (sum(map(power17,i))%127==19) and (sum(map(power18,i))%127==87) and (sum(map(power19,i))%127==36) and (sum(map(power20,i))%127==93) and (sum(map(power21,i))%127==115)and (sum(map(power22,i))%127==49) and (sum(map(power23,i))%127==116) and (sum(map(power24,i))%127==114) and (sum(map(power25,i))%127==49) and (sum(map(power26,i))%127==55) and (sum(map(power27,i))%127==96) and (sum(map(power28,i))%127==23) and (sum(map(power29,i))%127==116) and (sum(map(power30,i))%127==92) and (sum(map(power31,i))%127==84)"
   ]
  },
  {
   "cell_type": "code",
   "execution_count": 52,
   "metadata": {},
   "outputs": [
    {
     "name": "stdout",
     "output_type": "stream",
     "text": [
      "(102, 102, 103, 104, 104, 105, 106, 107, 108, 108, 108, 108, 109, 109, 111, 111, 114, 114, 114, 116, 116, 117, 117)\n"
     ]
    }
   ],
   "source": [
    "searching = [ i for i in allcombo if condition ]"
   ]
  },
  {
   "cell_type": "code",
   "execution_count": 64,
   "metadata": {},
   "outputs": [
    {
     "data": {
      "text/plain": [
       "[102,\n",
       " 102,\n",
       " 103,\n",
       " 104,\n",
       " 104,\n",
       " 105,\n",
       " 106,\n",
       " 107,\n",
       " 108,\n",
       " 108,\n",
       " 108,\n",
       " 108,\n",
       " 109,\n",
       " 109,\n",
       " 111,\n",
       " 111,\n",
       " 114,\n",
       " 114,\n",
       " 114,\n",
       " 116,\n",
       " 116,\n",
       " 117,\n",
       " 117]"
      ]
     },
     "execution_count": 64,
     "metadata": {},
     "output_type": "execute_result"
    }
   ],
   "source": [
    "f=\"102, 102, 103, 104, 104, 105, 106, 107, 108, 108, 108, 108, 109, 109, 111, 111, 114, 114, 114, 116, 116, 117, 117\"\n",
    "password=f.split(', ')\n",
    "li= [ int(i) for i in password]\n",
    "li"
   ]
  },
  {
   "cell_type": "markdown",
   "metadata": {},
   "source": [
    "## Password (Ascii to character Mapping)"
   ]
  },
  {
   "cell_type": "code",
   "execution_count": 65,
   "metadata": {},
   "outputs": [
    {
     "data": {
      "text/plain": [
       "'ffghhijkllllmmoorrrttuu'"
      ]
     },
     "execution_count": 65,
     "metadata": {},
     "output_type": "execute_result"
    }
   ],
   "source": [
    "g=\"\"\n",
    "i=0\n",
    "for i in li:\n",
    "    g+=chr(i)\n",
    "g"
   ]
  }
 ],
 "metadata": {
  "interpreter": {
   "hash": "cd78fef2128015050713e82ca51c6520b11aee7c9ee8df750520bbbc7384cbaa"
  },
  "kernelspec": {
   "display_name": "Python ('yolo')",
   "language": "python",
   "name": "python3"
  },
  "language_info": {
   "codemirror_mode": {
    "name": "ipython",
    "version": 3
   },
   "file_extension": ".py",
   "mimetype": "text/x-python",
   "name": "python",
   "nbconvert_exporter": "python",
   "pygments_lexer": "ipython3",
   "version": ""
  },
  "orig_nbformat": 4
 },
 "nbformat": 4,
 "nbformat_minor": 2
}
