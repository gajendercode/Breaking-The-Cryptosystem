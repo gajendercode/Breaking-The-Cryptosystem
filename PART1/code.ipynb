{
 "cells": [
  {
   "cell_type": "code",
   "execution_count": 12,
   "metadata": {},
   "outputs": [],
   "source": [
    "import string\n",
    "characters = string.ascii_uppercase"
   ]
  },
  {
   "cell_type": "markdown",
   "metadata": {},
   "source": [
    "## In the following piece of code we have removed the extra spaces so that it could be used for UNIGRAM and BIGRAM analysis "
   ]
  },
  {
   "cell_type": "code",
   "execution_count": 13,
   "metadata": {},
   "outputs": [
    {
     "name": "stdout",
     "output_type": "stream",
     "text": [
      "Cipher text:\n",
      " OMKFPIHDNCMGEFICPHSCK.HKRGVPHQKCC,FICMCOKQGFIOQAGEOQFCMCKFOQFICPIHDNCM.KGDCGEFICUHFCMPIHDNCMKLOUUNCDGMCOQFCMCKFOQAFIHQFIOKGQC!FICPGYCVKCYEGMFIOKDCKKHACOKHKODJUCKVNKFOFVFOGQPOJICMOQLIOPIYOAOFKIHSCNCCQKIOEFCYNR2JUHPCK.FICJHKKLGMYOKOMXR9V1XYAFLOFIGVFFICXVGFCK.FIOKOKFICE\n"
     ]
    }
   ],
   "source": [
    "cipher_text = \"omkf pi hdn cmgef icphsck .H krg vphqkc c,fic mco kqgf ioqag eo qfcmckf oq ficpihdn cm .Kg dcgeficu hfcm pi hdn cmklo uuncdgmc oqfc mc kfoq afihqfiokgq c!Fi cpgy cvkc yeg mfio kdck kha cokh kodjuck vn k fofvfo gqpojicmoqli opiyoa of kihsc nccqki oefc ynr2 juhpck. Fi c jhkklgm yok oMxr9V1x ya flofigvffic xvgfck. Fio kokfice\"\n",
    "cipher_text = cipher_text.upper().replace(\" \", \"\")\n",
    "print(\"Cipher text:\\n\",cipher_text)\n"
   ]
  },
  {
   "cell_type": "markdown",
   "metadata": {},
   "source": [
    "## In the following piece of code we wish to analyse the frequency of every UNIGRAM"
   ]
  },
  {
   "cell_type": "code",
   "execution_count": 14,
   "metadata": {},
   "outputs": [
    {
     "data": {
      "text/plain": [
       "[('C', 13.48314606741573),\n",
       " ('F', 10.486891385767791),\n",
       " ('K', 10.112359550561797),\n",
       " ('O', 9.363295880149813),\n",
       " ('I', 8.239700374531834),\n",
       " ('G', 5.2434456928838955),\n",
       " ('H', 4.868913857677903),\n",
       " ('M', 4.868913857677903),\n",
       " ('Q', 4.49438202247191),\n",
       " ('P', 3.3707865168539324),\n",
       " ('D', 2.6217228464419478),\n",
       " ('N', 2.6217228464419478),\n",
       " ('V', 2.6217228464419478),\n",
       " ('E', 2.247191011235955),\n",
       " ('Y', 2.247191011235955),\n",
       " ('A', 1.8726591760299627),\n",
       " ('U', 1.8726591760299627),\n",
       " ('J', 1.4981273408239701),\n",
       " ('L', 1.4981273408239701),\n",
       " ('R', 1.1235955056179776),\n",
       " ('X', 1.1235955056179776),\n",
       " ('S', 0.7490636704119851),\n",
       " ('B', 0.0),\n",
       " ('T', 0.0),\n",
       " ('W', 0.0),\n",
       " ('Z', 0.0)]"
      ]
     },
     "execution_count": 14,
     "metadata": {},
     "output_type": "execute_result"
    }
   ],
   "source": [
    "frequencies = {i:cipher_text.count(i)/len(cipher_text)*100 for i in characters}\n",
    "sorted(frequencies.items(), key = lambda x: x[1], reverse = True)"
   ]
  },
  {
   "cell_type": "markdown",
   "metadata": {},
   "source": [
    "## Frequency analysis of BIGRAMS"
   ]
  },
  {
   "cell_type": "code",
   "execution_count": 15,
   "metadata": {},
   "outputs": [
    {
     "data": {
      "text/plain": [
       "[('FI', 5.64516129032258),\n",
       " ('IC', 3.6290322580645165),\n",
       " ('CM', 3.225806451612903),\n",
       " ('CK', 2.82258064516129),\n",
       " ('OK', 2.82258064516129),\n",
       " ('IO', 2.4193548387096775),\n",
       " ('OQ', 2.4193548387096775),\n",
       " ('FC', 2.0161290322580645),\n",
       " ('IH', 2.0161290322580645),\n",
       " ('KF', 2.0161290322580645),\n",
       " ('NC', 2.0161290322580645),\n",
       " ('FO', 1.6129032258064515),\n",
       " ('MC', 1.6129032258064515),\n",
       " ('PI', 1.6129032258064515),\n",
       " ('QF', 1.6129032258064515),\n",
       " ('CO', 1.2096774193548387),\n",
       " ('CP', 1.2096774193548387),\n",
       " ('DN', 1.2096774193548387),\n",
       " ('EF', 1.2096774193548387),\n",
       " ('GE', 1.2096774193548387),\n",
       " ('GM', 1.2096774193548387),\n",
       " ('HD', 1.2096774193548387),\n",
       " ('HK', 1.2096774193548387),\n",
       " ('KO', 1.2096774193548387),\n",
       " ('OF', 1.2096774193548387),\n",
       " ('AF', 0.8064516129032258),\n",
       " ('CC', 0.8064516129032258),\n",
       " ('CY', 0.8064516129032258),\n",
       " ('DC', 0.8064516129032258),\n",
       " ('GF', 0.8064516129032258),\n",
       " ('GQ', 0.8064516129032258),\n",
       " ('GV', 0.8064516129032258),\n",
       " ('HQ', 0.8064516129032258),\n",
       " ('HS', 0.8064516129032258),\n",
       " ('JU', 0.8064516129032258),\n",
       " ('KC', 0.8064516129032258),\n",
       " ('KG', 0.8064516129032258),\n",
       " ('KH', 0.8064516129032258),\n",
       " ('KI', 0.8064516129032258),\n",
       " ('KK', 0.8064516129032258),\n",
       " ('KL', 0.8064516129032258),\n",
       " ('LO', 0.8064516129032258),\n",
       " ('MK', 0.8064516129032258),\n",
       " ('OM', 0.8064516129032258),\n",
       " ('PH', 0.8064516129032258),\n",
       " ('QA', 0.8064516129032258),\n",
       " ('QK', 0.8064516129032258),\n",
       " ('SC', 0.8064516129032258),\n",
       " ('UH', 0.8064516129032258),\n",
       " ('VF', 0.8064516129032258),\n",
       " ('YO', 0.8064516129032258),\n",
       " ('AC', 0.4032258064516129),\n",
       " ('AG', 0.4032258064516129),\n",
       " ('AO', 0.4032258064516129),\n",
       " ('CD', 0.4032258064516129),\n",
       " ('CE', 0.4032258064516129),\n",
       " ('CG', 0.4032258064516129),\n",
       " ('CJ', 0.4032258064516129),\n",
       " ('CN', 0.4032258064516129),\n",
       " ('CQ', 0.4032258064516129),\n",
       " ('CU', 0.4032258064516129),\n",
       " ('CV', 0.4032258064516129),\n",
       " ('CX', 0.4032258064516129),\n",
       " ('DG', 0.4032258064516129),\n",
       " ('DJ', 0.4032258064516129),\n",
       " ('EG', 0.4032258064516129),\n",
       " ('EO', 0.4032258064516129),\n",
       " ('FF', 0.4032258064516129),\n",
       " ('FK', 0.4032258064516129),\n",
       " ('FL', 0.4032258064516129),\n",
       " ('FP', 0.4032258064516129),\n",
       " ('FV', 0.4032258064516129),\n",
       " ('GD', 0.4032258064516129),\n",
       " ('GY', 0.4032258064516129),\n",
       " ('HA', 0.4032258064516129),\n",
       " ('HF', 0.4032258064516129),\n",
       " ('HP', 0.4032258064516129),\n",
       " ('IG', 0.4032258064516129),\n",
       " ('IY', 0.4032258064516129),\n",
       " ('JH', 0.4032258064516129),\n",
       " ('JI', 0.4032258064516129),\n",
       " ('KD', 0.4032258064516129),\n",
       " ('KQ', 0.4032258064516129),\n",
       " ('KR', 0.4032258064516129),\n",
       " ('KV', 0.4032258064516129),\n",
       " ('LG', 0.4032258064516129),\n",
       " ('LI', 0.4032258064516129),\n",
       " ('MF', 0.4032258064516129),\n",
       " ('MG', 0.4032258064516129),\n",
       " ('MO', 0.4032258064516129),\n",
       " ('MP', 0.4032258064516129),\n",
       " ('MX', 0.4032258064516129),\n",
       " ('MY', 0.4032258064516129),\n",
       " ('NK', 0.4032258064516129),\n",
       " ('NR', 0.4032258064516129),\n",
       " ('OA', 0.4032258064516129),\n",
       " ('OD', 0.4032258064516129),\n",
       " ('OE', 0.4032258064516129),\n",
       " ('OG', 0.4032258064516129),\n",
       " ('OJ', 0.4032258064516129),\n",
       " ('OP', 0.4032258064516129),\n",
       " ('OU', 0.4032258064516129),\n",
       " ('PC', 0.4032258064516129),\n",
       " ('PG', 0.4032258064516129),\n",
       " ('PO', 0.4032258064516129),\n",
       " ('QC', 0.4032258064516129),\n",
       " ('QG', 0.4032258064516129),\n",
       " ('QL', 0.4032258064516129),\n",
       " ('QP', 0.4032258064516129),\n",
       " ('RG', 0.4032258064516129),\n",
       " ('UC', 0.4032258064516129),\n",
       " ('UN', 0.4032258064516129),\n",
       " ('UU', 0.4032258064516129),\n",
       " ('VG', 0.4032258064516129),\n",
       " ('VK', 0.4032258064516129),\n",
       " ('VN', 0.4032258064516129),\n",
       " ('VP', 0.4032258064516129),\n",
       " ('XR', 0.4032258064516129),\n",
       " ('XV', 0.4032258064516129),\n",
       " ('XY', 0.4032258064516129),\n",
       " ('YA', 0.4032258064516129),\n",
       " ('YC', 0.4032258064516129),\n",
       " ('YE', 0.4032258064516129),\n",
       " ('YN', 0.4032258064516129)]"
      ]
     },
     "execution_count": 15,
     "metadata": {},
     "output_type": "execute_result"
    }
   ],
   "source": [
    "big_fr = {i+j:cipher_text.count(i+j) for i in characters for j in characters if cipher_text.count(i+j)>0}\n",
    "p =sum(big_fr.values())\n",
    "for i in big_fr:\n",
    "    big_fr[i] = float(big_fr[i]/p)*100\n",
    "sorted(big_fr.items(), key = lambda x: x[1], reverse = True)"
   ]
  },
  {
   "cell_type": "markdown",
   "metadata": {},
   "source": [
    "## Substitution Cipher using Frequency Analysis"
   ]
  },
  {
   "cell_type": "code",
   "execution_count": 16,
   "metadata": {},
   "outputs": [
    {
     "name": "stdout",
     "output_type": "stream",
     "text": [
      "Deciphered text:\n",
      "IRSTCHAMBEROFTHECAVES.ASYOUCANSEE,THEREISNOTHINGOFINTERESTINTHECHAMBER.SOMEOFTHELATERCHAMBERSWILLBEMOREINTERESTINGTHANTHISONE!THECODEUSEDFORTHISMESSAGEISASIMPLESUBSTITUTIONCIPHERINWHICHDIGITSHAVEBEENSHIFTEDBY2PLACES.THEPASSWORDISIRQY9U1QDGTWITHOUTTHEQUOTES.THISISTHEF\n"
     ]
    }
   ],
   "source": [
    "plain_text = \"\"\n",
    "for ch in cipher_text:\n",
    "    if ch=='C':\n",
    "        ch='E'\n",
    "    elif ch=='F':\n",
    "        ch='T'\n",
    "    elif ch=='K':\n",
    "        ch='S'\n",
    "    elif ch=='O':\n",
    "        ch='I'\n",
    "    elif ch=='I':\n",
    "        ch='H'\n",
    "    elif ch=='G':\n",
    "        ch='O'\n",
    "    elif ch=='H':\n",
    "        ch='A'\n",
    "    elif ch=='M':\n",
    "        ch='R'\n",
    "    elif ch=='Q':\n",
    "        ch='N'\n",
    "    elif ch=='P':\n",
    "        ch='C'\n",
    "    elif ch=='D':\n",
    "        ch='M'\n",
    "    elif ch=='N':\n",
    "        ch='B'\n",
    "    elif ch=='V':\n",
    "        ch='U'\n",
    "    elif ch=='E':\n",
    "        ch='F'\n",
    "    elif ch=='Y':\n",
    "        ch='D'\n",
    "    elif ch=='A':\n",
    "        ch='G'\n",
    "    elif ch=='U':\n",
    "        ch='L'\n",
    "    elif ch=='J':\n",
    "        ch='P'\n",
    "    elif ch=='L':\n",
    "        ch='W'\n",
    "    elif ch=='X':\n",
    "        ch='Q'\n",
    "    elif ch=='S':\n",
    "        ch='V'\n",
    "    elif ch=='R':\n",
    "        ch='Y'\n",
    "    plain_text+=ch\n",
    "print(\"Deciphered text:\")\n",
    "print(plain_text)"
   ]
  }
 ],
 "metadata": {
  "interpreter": {
   "hash": "2f2aef12728c24554d1b9d445ac8696dd62b59cdace567cfcd970674ae8454a3"
  },
  "kernelspec": {
   "display_name": "Python 3.8.8 64-bit ('base': conda)",
   "language": "python",
   "name": "python3"
  },
  "language_info": {
   "codemirror_mode": {
    "name": "ipython",
    "version": 3
   },
   "file_extension": ".py",
   "mimetype": "text/x-python",
   "name": "python",
   "nbconvert_exporter": "python",
   "pygments_lexer": "ipython3",
   "version": "3.8.8"
  },
  "orig_nbformat": 4
 },
 "nbformat": 4,
 "nbformat_minor": 2
}
